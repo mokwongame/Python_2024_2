{
 "cells": [
  {
   "cell_type": "code",
   "execution_count": 1,
   "id": "a6309588-61e1-49d9-b304-a58a9c4d4260",
   "metadata": {},
   "outputs": [],
   "source": [
    "import psycopg"
   ]
  },
  {
   "cell_type": "code",
   "execution_count": 2,
   "id": "5152dbb4-eed8-4bda-940d-8e18cedcdc44",
   "metadata": {},
   "outputs": [
    {
     "name": "stdout",
     "output_type": "stream",
     "text": [
      "Help on method connect in module psycopg.connection:\n",
      "\n",
      "connect(\n",
      "    conninfo: 'str' = '',\n",
      "    *,\n",
      "    autocommit: 'bool' = False,\n",
      "    prepare_threshold: 'int | None' = 5,\n",
      "    context: 'AdaptContext | None' = None,\n",
      "    row_factory: 'RowFactory[Row] | None' = None,\n",
      "    cursor_factory: 'type[Cursor[Row]] | None' = None,\n",
      "    **kwargs: 'ConnParam'\n",
      ") -> 'Self' class method of psycopg.Connection\n",
      "    Connect to a database server and return a new `Connection` instance.\n",
      "\n"
     ]
    }
   ],
   "source": [
    "help(psycopg.connect)"
   ]
  },
  {
   "cell_type": "code",
   "execution_count": 9,
   "id": "689c63ae-a018-44ba-9f10-823beafc4200",
   "metadata": {},
   "outputs": [],
   "source": [
    "# DB 연결 설정\n",
    "conn = psycopg.connect(host='localhost', port='5432', dbname='postgres', user='postgres', password='2024')\n",
    "cursor = conn.cursor()"
   ]
  },
  {
   "cell_type": "code",
   "execution_count": 8,
   "id": "ec991b52-07cd-4492-8660-cab11ac5aa21",
   "metadata": {},
   "outputs": [],
   "source": [
    "# DB 연결 제제\n",
    "cursor.close()\n",
    "conn.close()"
   ]
  },
  {
   "cell_type": "code",
   "execution_count": 10,
   "id": "bd733ffa-b0a5-41b3-982c-42ad3232a38d",
   "metadata": {},
   "outputs": [],
   "source": [
    "# SQL 쓰기\n",
    "cursor.execute('SELECT COUNT(*) FROM volt_table') # record 개수 얻기\n",
    "conn.commit()"
   ]
  },
  {
   "cell_type": "code",
   "execution_count": null,
   "id": "ce619c84-a454-468f-9f0e-9c91bd904833",
   "metadata": {},
   "outputs": [],
   "source": [
    "# SQL 결과 얻기\n",
    "cursor."
   ]
  }
 ],
 "metadata": {
  "kernelspec": {
   "display_name": "Python 3 (ipykernel)",
   "language": "python",
   "name": "python3"
  },
  "language_info": {
   "codemirror_mode": {
    "name": "ipython",
    "version": 3
   },
   "file_extension": ".py",
   "mimetype": "text/x-python",
   "name": "python",
   "nbconvert_exporter": "python",
   "pygments_lexer": "ipython3",
   "version": "3.13.0"
  }
 },
 "nbformat": 4,
 "nbformat_minor": 5
}
