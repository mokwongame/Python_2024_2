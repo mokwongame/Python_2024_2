{
 "cells": [
  {
   "cell_type": "code",
   "execution_count": 1,
   "id": "1954d23b-3634-4f6e-afab-d3889a1fc005",
   "metadata": {},
   "outputs": [],
   "source": [
    "from serial import Serial # serial 패키지에서 Serial 클래스를 수입; 대소문자 구별 조심"
   ]
  },
  {
   "cell_type": "code",
   "execution_count": 2,
   "id": "b4a77a3a-91d1-4453-a5ef-ec90038599f4",
   "metadata": {},
   "outputs": [
    {
     "data": {
      "text/plain": [
       "abc.ABCMeta"
      ]
     },
     "execution_count": 2,
     "metadata": {},
     "output_type": "execute_result"
    }
   ],
   "source": [
    "type(Serial) # Serial의 자료형(type)을 확인"
   ]
  },
  {
   "cell_type": "code",
   "execution_count": 3,
   "id": "0d9a05e2-7101-47aa-863e-8bffd1386a4c",
   "metadata": {},
   "outputs": [
    {
     "name": "stdout",
     "output_type": "stream",
     "text": [
      "Help on class Serial in module serial.serialwin32:\n",
      "\n",
      "class Serial(serial.serialutil.SerialBase)\n",
      " |  Serial(*args, **kwargs)\n",
      " |\n",
      " |  Serial port implementation for Win32 based on ctypes.\n",
      " |\n",
      " |  Method resolution order:\n",
      " |      Serial\n",
      " |      serial.serialutil.SerialBase\n",
      " |      io.RawIOBase\n",
      " |      _io._RawIOBase\n",
      " |      io.IOBase\n",
      " |      _io._IOBase\n",
      " |      builtins.object\n",
      " |\n",
      " |  Methods defined here:\n",
      " |\n",
      " |  __init__(self, *args, **kwargs)\n",
      " |      Initialize comm port object. If a \"port\" is given, then the port will be\n",
      " |      opened immediately. Otherwise a Serial port object in closed state\n",
      " |      is returned.\n",
      " |\n",
      " |  cancel_read(self)\n",
      " |      Cancel a blocking read operation, may be called from other thread\n",
      " |\n",
      " |  cancel_write(self)\n",
      " |      Cancel a blocking write operation, may be called from other thread\n",
      " |\n",
      " |  close(self)\n",
      " |      Close port\n",
      " |\n",
      " |  flush(self)\n",
      " |      Flush of file like objects. In this case, wait until all data\n",
      " |      is written.\n",
      " |\n",
      " |  open(self)\n",
      " |      Open port with current settings. This may throw a SerialException\n",
      " |      if the port cannot be opened.\n",
      " |\n",
      " |  read(self, size=1)\n",
      " |      Read size bytes from the serial port. If a timeout is set it may\n",
      " |      return less characters as requested. With no timeout it will block\n",
      " |      until the requested number of bytes is read.\n",
      " |\n",
      " |  reset_input_buffer(self)\n",
      " |      Clear input buffer, discarding all that is in the buffer.\n",
      " |\n",
      " |  reset_output_buffer(self)\n",
      " |      Clear output buffer, aborting the current output and discarding all\n",
      " |      that is in the buffer.\n",
      " |\n",
      " |  set_buffer_size(self, rx_size=4096, tx_size=None)\n",
      " |      Recommend a buffer size to the driver (device driver can ignore this\n",
      " |      value). Must be called after the port is opened.\n",
      " |\n",
      " |  set_output_flow_control(self, enable=True)\n",
      " |      Manually control flow - when software flow control is enabled.\n",
      " |      This will do the same as if XON (true) or XOFF (false) are received\n",
      " |      from the other device and control the transmission accordingly.\n",
      " |      WARNING: this function is not portable to different platforms!\n",
      " |\n",
      " |  write(self, data)\n",
      " |      Output the given byte string over the serial port.\n",
      " |\n",
      " |  ----------------------------------------------------------------------\n",
      " |  Readonly properties defined here:\n",
      " |\n",
      " |  cd\n",
      " |      Read terminal status line: Carrier Detect\n",
      " |\n",
      " |  cts\n",
      " |      Read terminal status line: Clear To Send\n",
      " |\n",
      " |  dsr\n",
      " |      Read terminal status line: Data Set Ready\n",
      " |\n",
      " |  in_waiting\n",
      " |      Return the number of bytes currently in the input buffer.\n",
      " |\n",
      " |  out_waiting\n",
      " |      Return how many bytes the in the outgoing buffer\n",
      " |\n",
      " |  ri\n",
      " |      Read terminal status line: Ring Indicator\n",
      " |\n",
      " |  ----------------------------------------------------------------------\n",
      " |  Data descriptors defined here:\n",
      " |\n",
      " |  exclusive\n",
      " |      Get the current exclusive access setting.\n",
      " |\n",
      " |  ----------------------------------------------------------------------\n",
      " |  Data and other attributes defined here:\n",
      " |\n",
      " |  BAUDRATES = (50, 75, 110, 134, 150, 200, 300, 600, 1200, 1800, 2400, 4...\n",
      " |\n",
      " |  __abstractmethods__ = frozenset()\n",
      " |\n",
      " |  ----------------------------------------------------------------------\n",
      " |  Methods inherited from serial.serialutil.SerialBase:\n",
      " |\n",
      " |  __enter__(self)\n",
      " |\n",
      " |  __exit__(self, *args, **kwargs)\n",
      " |\n",
      " |  __repr__(self)\n",
      " |      String representation of the current port settings and its state.\n",
      " |\n",
      " |  applySettingsDict(self, d)\n",
      " |\n",
      " |  apply_settings(self, d)\n",
      " |      Apply stored settings from a dictionary returned from\n",
      " |      get_settings(). It's allowed to delete keys from the dictionary. These\n",
      " |      values will simply left unchanged.\n",
      " |\n",
      " |  flushInput(self)\n",
      " |\n",
      " |  flushOutput(self)\n",
      " |\n",
      " |  getCD(self)\n",
      " |\n",
      " |  getCTS(self)\n",
      " |\n",
      " |  getDSR(self)\n",
      " |\n",
      " |  getRI(self)\n",
      " |\n",
      " |  getSettingsDict(self)\n",
      " |\n",
      " |  get_settings(self)\n",
      " |      Get current port settings as a dictionary. For use with\n",
      " |      apply_settings().\n",
      " |\n",
      " |  inWaiting(self)\n",
      " |\n",
      " |  iread_until(self, *args, **kwargs)\n",
      " |      Read lines, implemented as generator. It will raise StopIteration on\n",
      " |      timeout (empty read).\n",
      " |\n",
      " |  isOpen(self)\n",
      " |\n",
      " |  read_all(self)\n",
      " |      Read all bytes currently available in the buffer of the OS.\n",
      " |\n",
      " |  read_until(self, expected=b'\\n', size=None)\n",
      " |      Read until an expected sequence is found ('\n",
      " |      ' by default), the size\n",
      " |              is exceeded or until timeout occurs.\n",
      " |\n",
      " |  readable(self)\n",
      " |      Return whether object was opened for reading.\n",
      " |\n",
      " |      If False, read() will raise OSError.\n",
      " |\n",
      " |  readinto(self, b)\n",
      " |\n",
      " |  seekable(self)\n",
      " |      Return whether object supports random access.\n",
      " |\n",
      " |      If False, seek(), tell() and truncate() will raise OSError.\n",
      " |      This method may need to do a test seek().\n",
      " |\n",
      " |  sendBreak(self, duration=0.25)\n",
      " |\n",
      " |  send_break(self, duration=0.25)\n",
      " |      Send break condition. Timed, returns to idle state after given\n",
      " |      duration.\n",
      " |\n",
      " |  setDTR(self, value=1)\n",
      " |\n",
      " |  setPort(self, port)\n",
      " |\n",
      " |  setRTS(self, value=1)\n",
      " |\n",
      " |  writable(self)\n",
      " |      Return whether object was opened for writing.\n",
      " |\n",
      " |      If False, write() will raise OSError.\n",
      " |\n",
      " |  ----------------------------------------------------------------------\n",
      " |  Data descriptors inherited from serial.serialutil.SerialBase:\n",
      " |\n",
      " |  baudrate\n",
      " |      Get the current baud rate setting.\n",
      " |\n",
      " |  break_condition\n",
      " |\n",
      " |  bytesize\n",
      " |      Get the current byte size setting.\n",
      " |\n",
      " |  dsrdtr\n",
      " |      Get the current DSR/DTR flow control setting.\n",
      " |\n",
      " |  dtr\n",
      " |\n",
      " |  interCharTimeout\n",
      " |\n",
      " |  inter_byte_timeout\n",
      " |      Get the current inter-character timeout setting.\n",
      " |\n",
      " |  parity\n",
      " |      Get the current parity setting.\n",
      " |\n",
      " |  port\n",
      " |      Get the current port setting. The value that was passed on init or using\n",
      " |      setPort() is passed back.\n",
      " |\n",
      " |  rs485_mode\n",
      " |      Enable RS485 mode and apply new settings, set to None to disable.\n",
      " |      See serial.rs485.RS485Settings for more info about the value.\n",
      " |\n",
      " |  rts\n",
      " |\n",
      " |  rtscts\n",
      " |      Get the current RTS/CTS flow control setting.\n",
      " |\n",
      " |  stopbits\n",
      " |      Get the current stop bits setting.\n",
      " |\n",
      " |  timeout\n",
      " |      Get the current timeout setting.\n",
      " |\n",
      " |  writeTimeout\n",
      " |\n",
      " |  write_timeout\n",
      " |      Get the current timeout setting.\n",
      " |\n",
      " |  xonxoff\n",
      " |      Get the current XON/XOFF setting.\n",
      " |\n",
      " |  ----------------------------------------------------------------------\n",
      " |  Data and other attributes inherited from serial.serialutil.SerialBase:\n",
      " |\n",
      " |  BYTESIZES = (5, 6, 7, 8)\n",
      " |\n",
      " |  PARITIES = ('N', 'E', 'O', 'M', 'S')\n",
      " |\n",
      " |  STOPBITS = (1, 1.5, 2)\n",
      " |\n",
      " |  ----------------------------------------------------------------------\n",
      " |  Methods inherited from _io._RawIOBase:\n",
      " |\n",
      " |  readall(self, /)\n",
      " |      Read until EOF, using multiple read() call.\n",
      " |\n",
      " |  ----------------------------------------------------------------------\n",
      " |  Methods inherited from _io._IOBase:\n",
      " |\n",
      " |  __del__(self, /)\n",
      " |      Called when the instance is about to be destroyed.\n",
      " |\n",
      " |  __iter__(self, /)\n",
      " |      Implement iter(self).\n",
      " |\n",
      " |  __next__(self, /)\n",
      " |      Implement next(self).\n",
      " |\n",
      " |  fileno(self, /)\n",
      " |      Return underlying file descriptor if one exists.\n",
      " |\n",
      " |      Raise OSError if the IO object does not use a file descriptor.\n",
      " |\n",
      " |  isatty(self, /)\n",
      " |      Return whether this is an 'interactive' stream.\n",
      " |\n",
      " |      Return False if it can't be determined.\n",
      " |\n",
      " |  readline(self, size=-1, /)\n",
      " |      Read and return a line from the stream.\n",
      " |\n",
      " |      If size is specified, at most size bytes will be read.\n",
      " |\n",
      " |      The line terminator is always b'\\n' for binary files; for text\n",
      " |      files, the newlines argument to open can be used to select the line\n",
      " |      terminator(s) recognized.\n",
      " |\n",
      " |  readlines(self, hint=-1, /)\n",
      " |      Return a list of lines from the stream.\n",
      " |\n",
      " |      hint can be specified to control the number of lines read: no more\n",
      " |      lines will be read if the total size (in bytes/characters) of all\n",
      " |      lines so far exceeds hint.\n",
      " |\n",
      " |  seek(self, offset, whence=0, /)\n",
      " |      Change the stream position to the given byte offset.\n",
      " |\n",
      " |        offset\n",
      " |          The stream position, relative to 'whence'.\n",
      " |        whence\n",
      " |          The relative position to seek from.\n",
      " |\n",
      " |      The offset is interpreted relative to the position indicated by whence.\n",
      " |      Values for whence are:\n",
      " |\n",
      " |      * os.SEEK_SET or 0 -- start of stream (the default); offset should be zero or positive\n",
      " |      * os.SEEK_CUR or 1 -- current stream position; offset may be negative\n",
      " |      * os.SEEK_END or 2 -- end of stream; offset is usually negative\n",
      " |\n",
      " |      Return the new absolute position.\n",
      " |\n",
      " |  tell(self, /)\n",
      " |      Return current stream position.\n",
      " |\n",
      " |  truncate(self, size=None, /)\n",
      " |      Truncate file to size bytes.\n",
      " |\n",
      " |      File pointer is left unchanged. Size defaults to the current IO position\n",
      " |      as reported by tell(). Return the new size.\n",
      " |\n",
      " |  writelines(self, lines, /)\n",
      " |      Write a list of lines to stream.\n",
      " |\n",
      " |      Line separators are not added, so it is usual for each of the\n",
      " |      lines provided to have a line separator at the end.\n",
      " |\n",
      " |  ----------------------------------------------------------------------\n",
      " |  Data descriptors inherited from _io._IOBase:\n",
      " |\n",
      " |  __dict__\n",
      " |\n",
      " |  closed\n",
      "\n"
     ]
    }
   ],
   "source": [
    "help(Serial) # Serial의 도움말(help) 확인"
   ]
  },
  {
   "cell_type": "code",
   "execution_count": 4,
   "id": "45a874e7-b765-48a3-bdb1-f9ce93a218b3",
   "metadata": {},
   "outputs": [
    {
     "name": "stdout",
     "output_type": "stream",
     "text": [
      "<class 'serial.serialwin32.Serial'>\n"
     ]
    }
   ],
   "source": [
    "print(Serial) # Serial의 값을 출력(print)"
   ]
  },
  {
   "cell_type": "code",
   "execution_count": 5,
   "id": "40c4d222-f064-407d-8f7c-76fcade0c6a9",
   "metadata": {},
   "outputs": [],
   "source": [
    "ard = Serial('COM3', 9600) # Serial 클래스를 컴포트 이름 COM3, 속도 9600 bps로 생성"
   ]
  },
  {
   "cell_type": "code",
   "execution_count": 6,
   "id": "f6d6ce75-f6a0-42a3-bdff-4aa23aee9481",
   "metadata": {},
   "outputs": [
    {
     "name": "stdout",
     "output_type": "stream",
     "text": [
      "get volt\n",
      "\n"
     ]
    }
   ],
   "source": [
    "# 문자열 인코딩 조심: Python(Unicode: 모든 언어 표현하는 문자 체계);\n",
    "# Serial(ASCII: 영어와 숫자만 표현하는 문자 체계, 1 byte = 1 char)\n",
    "# Python에서 Serial 쓰려면 문자열 변환해야 함: Unicode -> ASCII\n",
    "# 예시) 전압값 얻기: get volt\\n(우리 명령어 체계에서 마지막에는 반드시 엔터)\n",
    "sCmd = 'get volt\\n'\n",
    "print(sCmd)"
   ]
  },
  {
   "cell_type": "code",
   "execution_count": 8,
   "id": "c192923f-9659-49eb-a71d-a77b64b8bb2f",
   "metadata": {},
   "outputs": [
    {
     "name": "stdout",
     "output_type": "stream",
     "text": [
      "b'get volt\\n'\n"
     ]
    }
   ],
   "source": [
    "btCmd = sCmd.encode() # Unicode 문자열 -> ASCII(바이트) 문자열\n",
    "print(btCmd)"
   ]
  },
  {
   "cell_type": "code",
   "execution_count": 9,
   "id": "f7bb69c0-297c-41d3-aafc-6a794d55439d",
   "metadata": {},
   "outputs": [
    {
     "data": {
      "text/plain": [
       "9"
      ]
     },
     "execution_count": 9,
     "metadata": {},
     "output_type": "execute_result"
    }
   ],
   "source": [
    "ard.write(btCmd) # ASCII 문자열 btCmd를 클래스 Serial의 인스턴스인 ard에 쓰기(write)"
   ]
  },
  {
   "cell_type": "code",
   "execution_count": 10,
   "id": "9addb67b-797e-4a8a-abe7-1ca53898f350",
   "metadata": {},
   "outputs": [
    {
     "name": "stdout",
     "output_type": "stream",
     "text": [
      "14\n"
     ]
    }
   ],
   "source": [
    "# Arduino가 나에게 문자열을 출력했는지 확인\n",
    "nRead = ard.in_waiting # 읽을 수 있는 바이트 수가 in_waiting에 저장됨\n",
    "print(nRead)"
   ]
  },
  {
   "cell_type": "code",
   "execution_count": 11,
   "id": "ad32e19f-0314-49e7-ab47-dcbcd61bacd7",
   "metadata": {},
   "outputs": [],
   "source": [
    "btRead = ard.read(nRead) # ard에서 nRead 바이트 수만큼 읽기(read)"
   ]
  },
  {
   "cell_type": "code",
   "execution_count": 12,
   "id": "70414718-84fb-4fc4-b536-4da9e2067c7e",
   "metadata": {},
   "outputs": [
    {
     "name": "stdout",
     "output_type": "stream",
     "text": [
      "b'4.9462366000\\r\\n'\n"
     ]
    }
   ],
   "source": [
    "print(btRead)"
   ]
  },
  {
   "cell_type": "code",
   "execution_count": 13,
   "id": "83dd755f-21c2-4738-b69f-ddad17e5c4ad",
   "metadata": {},
   "outputs": [
    {
     "name": "stdout",
     "output_type": "stream",
     "text": [
      "4.9462366000\n",
      "\n"
     ]
    }
   ],
   "source": [
    "# 바이트(ASCII) 문자열 -> Unicode 문자열: encode()의 반대 함수인 decode()\n",
    "sRead = btRead.decode()\n",
    "print(sRead)"
   ]
  },
  {
   "cell_type": "code",
   "execution_count": 14,
   "id": "a2945be1-3201-43e7-b670-d1c318e4f5f7",
   "metadata": {},
   "outputs": [
    {
     "name": "stdout",
     "output_type": "stream",
     "text": [
      "4.9462366\n"
     ]
    }
   ],
   "source": [
    "#(Unicode) 문자열 -> 숫자(실수): type casting\n",
    "volt = float(sRead)\n",
    "print(volt)"
   ]
  },
  {
   "cell_type": "code",
   "execution_count": 15,
   "id": "ffe11fd3-a02b-4ada-8c41-8c9a48c9de75",
   "metadata": {},
   "outputs": [
    {
     "data": {
      "text/plain": [
       "float"
      ]
     },
     "execution_count": 15,
     "metadata": {},
     "output_type": "execute_result"
    }
   ],
   "source": [
    "type(volt)"
   ]
  },
  {
   "cell_type": "code",
   "execution_count": 16,
   "id": "71114c45-d4b3-48f3-8771-9cad3aa76437",
   "metadata": {},
   "outputs": [
    {
     "data": {
      "text/plain": [
       "str"
      ]
     },
     "execution_count": 16,
     "metadata": {},
     "output_type": "execute_result"
    }
   ],
   "source": [
    "type(sRead)"
   ]
  },
  {
   "cell_type": "code",
   "execution_count": null,
   "id": "723de66b-4812-4ad2-9aca-fc2ecdc73cb8",
   "metadata": {},
   "outputs": [],
   "source": []
  }
 ],
 "metadata": {
  "kernelspec": {
   "display_name": "Python 3 (ipykernel)",
   "language": "python",
   "name": "python3"
  },
  "language_info": {
   "codemirror_mode": {
    "name": "ipython",
    "version": 3
   },
   "file_extension": ".py",
   "mimetype": "text/x-python",
   "name": "python",
   "nbconvert_exporter": "python",
   "pygments_lexer": "ipython3",
   "version": "3.13.0"
  }
 },
 "nbformat": 4,
 "nbformat_minor": 5
}
