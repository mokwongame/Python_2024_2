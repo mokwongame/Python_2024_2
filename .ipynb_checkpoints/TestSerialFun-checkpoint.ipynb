{
 "cells": [
  {
   "cell_type": "code",
   "execution_count": 1,
   "id": "8bb197b9-1cc2-46e3-9811-dff664af0c2c",
   "metadata": {},
   "outputs": [],
   "source": [
    "from serial import Serial\n",
    "ard = Serial('COM3', 9600)"
   ]
  },
  {
   "cell_type": "code",
   "execution_count": 2,
   "id": "e5162c5d-c354-41c8-9024-9f9f3a60fea8",
   "metadata": {},
   "outputs": [],
   "source": [
    "def writeSerial(sCmd):\n",
    "    btCmd = sCmd.encode()\n",
    "    nWrite = ard.write(btCmd)\n",
    "    ard.flush() # 모든 바이트를 출력으로 내보기기\n",
    "    return nWrite"
   ]
  },
  {
   "cell_type": "code",
   "execution_count": 3,
   "id": "924df062-5fbf-4cb0-bbb4-8406d514eef6",
   "metadata": {},
   "outputs": [
    {
     "data": {
      "text/plain": [
       "9"
      ]
     },
     "execution_count": 3,
     "metadata": {},
     "output_type": "execute_result"
    }
   ],
   "source": [
    "writeSerial('get volt\\n')"
   ]
  },
  {
   "cell_type": "code",
   "execution_count": 4,
   "id": "997ea7fd-bfb6-4321-b7b4-ac5195a33452",
   "metadata": {},
   "outputs": [],
   "source": [
    "def readSerial():\n",
    "    nRead = ard.in_waiting\n",
    "    if nRead > 0:\n",
    "        btRead = ard.read(nRead)\n",
    "        sRead = btRead.decode()\n",
    "        return sRead\n",
    "    else: return ''"
   ]
  },
  {
   "cell_type": "code",
   "execution_count": 5,
   "id": "19de742f-4c16-4d4e-ad8c-1e7d05a1825a",
   "metadata": {},
   "outputs": [
    {
     "data": {
      "text/plain": [
       "'5.0000000000\\r\\n'"
      ]
     },
     "execution_count": 5,
     "metadata": {},
     "output_type": "execute_result"
    }
   ],
   "source": [
    "readSerial()"
   ]
  },
  {
   "cell_type": "code",
   "execution_count": 6,
   "id": "27184f77-d950-4d09-a887-e2dd44edef7c",
   "metadata": {},
   "outputs": [],
   "source": [
    "def talk(sCmd):\n",
    "    return writeSerial(sCmd + '\\n')"
   ]
  },
  {
   "cell_type": "code",
   "execution_count": 8,
   "id": "5b8df351-2ddb-4628-9a95-97fd9c386d8c",
   "metadata": {},
   "outputs": [
    {
     "data": {
      "text/plain": [
       "12"
      ]
     },
     "execution_count": 8,
     "metadata": {},
     "output_type": "execute_result"
    }
   ],
   "source": [
    "talk('set led off')"
   ]
  },
  {
   "cell_type": "code",
   "execution_count": 9,
   "id": "d93c532c-6037-4f2b-9dc6-8e571e9fdca8",
   "metadata": {},
   "outputs": [],
   "source": [
    "import time"
   ]
  },
  {
   "cell_type": "code",
   "execution_count": 10,
   "id": "80c84bfd-3971-4022-989c-22349fd9451d",
   "metadata": {},
   "outputs": [],
   "source": [
    "def wait(waitTime):\n",
    "    time.sleep(waitTime)"
   ]
  },
  {
   "cell_type": "code",
   "execution_count": 11,
   "id": "32edd665-c03f-4fe7-ba49-a86c17811ab9",
   "metadata": {},
   "outputs": [],
   "source": [
    "wait(0.1)"
   ]
  },
  {
   "cell_type": "code",
   "execution_count": 12,
   "id": "61ee2725-4d30-4dcc-a9e2-107149188d17",
   "metadata": {},
   "outputs": [],
   "source": [
    "def listen():\n",
    "    wait(0.1)\n",
    "    sRead = readSerial()\n",
    "    return sRead.strip() # 문자열 sRead 앞뒤에 공백 제거"
   ]
  },
  {
   "cell_type": "code",
   "execution_count": 15,
   "id": "3d6e65d5-8bc3-4468-8e27-b077ace7f118",
   "metadata": {},
   "outputs": [
    {
     "data": {
      "text/plain": [
       "'5.0000000000'"
      ]
     },
     "execution_count": 15,
     "metadata": {},
     "output_type": "execute_result"
    }
   ],
   "source": [
    "listen()"
   ]
  },
  {
   "cell_type": "code",
   "execution_count": 14,
   "id": "2437474e-5903-4983-af00-4bfe1ea41e22",
   "metadata": {},
   "outputs": [
    {
     "data": {
      "text/plain": [
       "9"
      ]
     },
     "execution_count": 14,
     "metadata": {},
     "output_type": "execute_result"
    }
   ],
   "source": [
    "talk('get volt')"
   ]
  },
  {
   "cell_type": "code",
   "execution_count": 16,
   "id": "85b4c371-90ab-46d9-9e33-743283d5adcb",
   "metadata": {},
   "outputs": [],
   "source": [
    "def talkListen(sCmd):\n",
    "    talk(sCmd)\n",
    "    return listen()"
   ]
  },
  {
   "cell_type": "code",
   "execution_count": 19,
   "id": "ebc6bd8d-d911-49cb-8cde-394a39ee033d",
   "metadata": {},
   "outputs": [
    {
     "data": {
      "text/plain": [
       "'ambient'"
      ]
     },
     "execution_count": 19,
     "metadata": {},
     "output_type": "execute_result"
    }
   ],
   "source": [
    "talkListen('get light')"
   ]
  },
  {
   "cell_type": "code",
   "execution_count": null,
   "id": "37a3ee96-9b67-4988-8801-20a1a99e78e8",
   "metadata": {},
   "outputs": [],
   "source": []
  }
 ],
 "metadata": {
  "kernelspec": {
   "display_name": "Python 3 (ipykernel)",
   "language": "python",
   "name": "python3"
  },
  "language_info": {
   "codemirror_mode": {
    "name": "ipython",
    "version": 3
   },
   "file_extension": ".py",
   "mimetype": "text/x-python",
   "name": "python",
   "nbconvert_exporter": "python",
   "pygments_lexer": "ipython3",
   "version": "3.13.0"
  }
 },
 "nbformat": 4,
 "nbformat_minor": 5
}
