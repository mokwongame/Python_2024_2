{
 "cells": [
  {
   "cell_type": "code",
   "execution_count": 1,
   "id": "8bb197b9-1cc2-46e3-9811-dff664af0c2c",
   "metadata": {},
   "outputs": [],
   "source": [
    "from serial import Serial\n",
    "ard = Serial('COM3', 9600)"
   ]
  },
  {
   "cell_type": "code",
   "execution_count": 2,
   "id": "e5162c5d-c354-41c8-9024-9f9f3a60fea8",
   "metadata": {},
   "outputs": [],
   "source": [
    "def writeSerial(sCmd):\n",
    "    btCmd = sCmd.encode()\n",
    "    nWrite = ard.write(btCmd)\n",
    "    ard.flush() # 모든 바이트를 출력으로 내보기기\n",
    "    return nWrite"
   ]
  },
  {
   "cell_type": "code",
   "execution_count": 3,
   "id": "924df062-5fbf-4cb0-bbb4-8406d514eef6",
   "metadata": {},
   "outputs": [
    {
     "data": {
      "text/plain": [
       "9"
      ]
     },
     "execution_count": 3,
     "metadata": {},
     "output_type": "execute_result"
    }
   ],
   "source": [
    "writeSerial('get volt\\n')"
   ]
  },
  {
   "cell_type": "code",
   "execution_count": 4,
   "id": "997ea7fd-bfb6-4321-b7b4-ac5195a33452",
   "metadata": {},
   "outputs": [],
   "source": [
    "def readSerial():\n",
    "    nRead = ard.in_waiting\n",
    "    if nRead > 0:\n",
    "        btRead = ard.read(nRead)\n",
    "        sRead = btRead.decode()\n",
    "        return sRead\n",
    "    else: return ''"
   ]
  },
  {
   "cell_type": "code",
   "execution_count": 5,
   "id": "19de742f-4c16-4d4e-ad8c-1e7d05a1825a",
   "metadata": {},
   "outputs": [
    {
     "data": {
      "text/plain": [
       "'5.0000000000\\r\\n'"
      ]
     },
     "execution_count": 5,
     "metadata": {},
     "output_type": "execute_result"
    }
   ],
   "source": [
    "readSerial()"
   ]
  },
  {
   "cell_type": "code",
   "execution_count": null,
   "id": "27184f77-d950-4d09-a887-e2dd44edef7c",
   "metadata": {},
   "outputs": [],
   "source": []
  }
 ],
 "metadata": {
  "kernelspec": {
   "display_name": "Python 3 (ipykernel)",
   "language": "python",
   "name": "python3"
  },
  "language_info": {
   "codemirror_mode": {
    "name": "ipython",
    "version": 3
   },
   "file_extension": ".py",
   "mimetype": "text/x-python",
   "name": "python",
   "nbconvert_exporter": "python",
   "pygments_lexer": "ipython3",
   "version": "3.13.0"
  }
 },
 "nbformat": 4,
 "nbformat_minor": 5
}
