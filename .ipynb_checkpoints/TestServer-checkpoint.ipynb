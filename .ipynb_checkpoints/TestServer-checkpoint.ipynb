{
 "cells": [
  {
   "cell_type": "code",
   "execution_count": null,
   "id": "cc929b11-7d8b-4bdd-9c78-c25f95bc842f",
   "metadata": {},
   "outputs": [],
   "source": [
    "#인터넷(Internet): 전지구적 컴퓨터망\n",
    "#LAN(Local Area Network): 지역망 프로토콜; 예) 목원대의 컴퓨터망\n",
    "#이더넷(ethernet): LAN의 HW\n",
    "#웹(world wide web): 인터넷상에서 정보를 교환하는 체계\n",
    "#HTTP(hyper-text transfer protocol): 웹중에서 문서를 교환하는 체계\n",
    "# 우리가 만들 기술: 인터넷 > 웹 > HTTP > 서버 구현"
   ]
  }
 ],
 "metadata": {
  "kernelspec": {
   "display_name": "Python 3 (ipykernel)",
   "language": "python",
   "name": "python3"
  },
  "language_info": {
   "codemirror_mode": {
    "name": "ipython",
    "version": 3
   },
   "file_extension": ".py",
   "mimetype": "text/x-python",
   "name": "python",
   "nbconvert_exporter": "python",
   "pygments_lexer": "ipython3",
   "version": "3.13.0"
  }
 },
 "nbformat": 4,
 "nbformat_minor": 5
}
