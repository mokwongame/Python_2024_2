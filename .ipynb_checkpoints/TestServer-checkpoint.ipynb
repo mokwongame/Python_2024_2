{
 "cells": [
  {
   "cell_type": "code",
   "execution_count": 1,
   "id": "cc929b11-7d8b-4bdd-9c78-c25f95bc842f",
   "metadata": {},
   "outputs": [],
   "source": [
    "#인터넷(Internet): 전지구적 컴퓨터망\n",
    "#LAN(Local Area Network): 지역망 프로토콜; 예) 목원대의 컴퓨터망\n",
    "#이더넷(ethernet): LAN의 HW\n",
    "#웹(world wide web): 인터넷상에서 정보를 교환하는 체계\n",
    "#HTTP(hyper-text transfer protocol): 웹중에서 문서를 교환하는 체계\n",
    "# 우리가 만들 기술: 인터넷 > 웹 > HTTP > 서버 구현\n",
    "from http.server import HTTPServer\n",
    "from IotReqHnl import IotReqHnl"
   ]
  },
  {
   "cell_type": "code",
   "execution_count": 2,
   "id": "87e49aaf-8766-46ee-bc75-24e3aee54cc0",
   "metadata": {},
   "outputs": [
    {
     "name": "stdout",
     "output_type": "stream",
     "text": [
      "My server started at http://localhost:8080\n"
     ]
    }
   ],
   "source": [
    "server = HTTPServer(('localhost', 8080), IotReqHnl) # request handler를 IotReqHnl로 등록"
   ]
  },
  {
   "cell_type": "code",
   "execution_count": null,
   "id": "d28b435b-6818-4602-93f1-93345b9c1984",
   "metadata": {},
   "outputs": [
    {
     "name": "stdout",
     "output_type": "stream",
     "text": [
      "/\n",
      "/\n",
      "/\n",
      "/\n"
     ]
    }
   ],
   "source": [
    "print('My server started at http://localhost:8080')\n",
    "server.serve_forever() # 서버를 영원히 구동"
   ]
  },
  {
   "cell_type": "code",
   "execution_count": null,
   "id": "081758b2-6cfa-45c5-b1a5-d015d59d2310",
   "metadata": {},
   "outputs": [],
   "source": []
  }
 ],
 "metadata": {
  "kernelspec": {
   "display_name": "Python 3 (ipykernel)",
   "language": "python",
   "name": "python3"
  },
  "language_info": {
   "codemirror_mode": {
    "name": "ipython",
    "version": 3
   },
   "file_extension": ".py",
   "mimetype": "text/x-python",
   "name": "python",
   "nbconvert_exporter": "python",
   "pygments_lexer": "ipython3",
   "version": "3.13.0"
  }
 },
 "nbformat": 4,
 "nbformat_minor": 5
}
