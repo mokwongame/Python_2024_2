{
 "cells": [
  {
   "cell_type": "code",
   "execution_count": 1,
   "id": "4c8474ca-248f-4005-8470-cf901b5d6618",
   "metadata": {},
   "outputs": [],
   "source": [
    "from IotServer import IotServer\n",
    "ws = IotServer()"
   ]
  },
  {
   "cell_type": "code",
   "execution_count": null,
   "id": "462c22b8-3793-4388-8daa-75914f54de18",
   "metadata": {},
   "outputs": [
    {
     "name": "stdout",
     "output_type": "stream",
     "text": [
      "My server started at http://localhost:8080\n",
      "path: /; query: \n"
     ]
    },
    {
     "name": "stderr",
     "output_type": "stream",
     "text": [
      "127.0.0.1 - - [02/Dec/2024 15:38:37] \"GET / HTTP/1.1\" 200 -\n"
     ]
    },
    {
     "name": "stdout",
     "output_type": "stream",
     "text": [
      "path: /sample_volt; query: count=10&delay=1.5\n",
      "{'count': ['10'], 'delay': ['1.5']}\n",
      "i = 0th meas.\n",
      "i = 1th meas.\n",
      "i = 2th meas.\n",
      "i = 3th meas.\n",
      "i = 4th meas.\n",
      "i = 5th meas.\n"
     ]
    }
   ],
   "source": [
    "ws.start()"
   ]
  },
  {
   "cell_type": "code",
   "execution_count": null,
   "id": "0dfe6dd6-eac0-46a7-8400-3378e41419e8",
   "metadata": {},
   "outputs": [],
   "source": []
  }
 ],
 "metadata": {
  "kernelspec": {
   "display_name": "Python 3 (ipykernel)",
   "language": "python",
   "name": "python3"
  },
  "language_info": {
   "codemirror_mode": {
    "name": "ipython",
    "version": 3
   },
   "file_extension": ".py",
   "mimetype": "text/x-python",
   "name": "python",
   "nbconvert_exporter": "python",
   "pygments_lexer": "ipython3",
   "version": "3.13.0"
  }
 },
 "nbformat": 4,
 "nbformat_minor": 5
}
