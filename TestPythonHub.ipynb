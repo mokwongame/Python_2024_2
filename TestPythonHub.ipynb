{
 "cells": [
  {
   "cell_type": "code",
   "execution_count": 1,
   "id": "4624b834-4993-437f-bc81-466aaf5bda1e",
   "metadata": {},
   "outputs": [],
   "source": [
    "from PythonHub import PythonHub # PythonHub.py 패키지로부터(from) PythonHub 클래스를 수입(import)\n",
    "python = PythonHub()"
   ]
  },
  {
   "cell_type": "code",
   "execution_count": null,
   "id": "6d5f72a7-4f67-4f49-8ad0-ee6f266eaa22",
   "metadata": {},
   "outputs": [],
   "source": []
  }
 ],
 "metadata": {
  "kernelspec": {
   "display_name": "Python 3 (ipykernel)",
   "language": "python",
   "name": "python3"
  },
  "language_info": {
   "codemirror_mode": {
    "name": "ipython",
    "version": 3
   },
   "file_extension": ".py",
   "mimetype": "text/x-python",
   "name": "python",
   "nbconvert_exporter": "python",
   "pygments_lexer": "ipython3",
   "version": "3.13.0"
  }
 },
 "nbformat": 4,
 "nbformat_minor": 5
}
