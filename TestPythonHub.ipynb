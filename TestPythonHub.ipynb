{
 "cells": [
  {
   "cell_type": "code",
   "execution_count": 1,
   "id": "4624b834-4993-437f-bc81-466aaf5bda1e",
   "metadata": {},
   "outputs": [],
   "source": [
    "from PythonHub import PythonHub # PythonHub.py 패키지로부터(from) PythonHub 클래스를 수입(import)\n",
    "python = PythonHub()"
   ]
  },
  {
   "cell_type": "code",
   "execution_count": 2,
   "id": "6d5f72a7-4f67-4f49-8ad0-ee6f266eaa22",
   "metadata": {},
   "outputs": [
    {
     "data": {
      "text/plain": [
       "'5.0000000000'"
      ]
     },
     "execution_count": 2,
     "metadata": {},
     "output_type": "execute_result"
    }
   ],
   "source": [
    "python.talkListen('get volt')"
   ]
  },
  {
   "cell_type": "code",
   "execution_count": 3,
   "id": "eafca766-4cdc-4671-817f-d44119740ab2",
   "metadata": {},
   "outputs": [
    {
     "data": {
      "text/plain": [
       "'595'"
      ]
     },
     "execution_count": 3,
     "metadata": {},
     "output_type": "execute_result"
    }
   ],
   "source": [
    "python.talkListen('get lightstep')"
   ]
  },
  {
   "cell_type": "code",
   "execution_count": 4,
   "id": "63e549d8-b5d1-4e0b-890b-b666f8de0645",
   "metadata": {},
   "outputs": [
    {
     "data": {
      "text/plain": [
       "'ambient'"
      ]
     },
     "execution_count": 4,
     "metadata": {},
     "output_type": "execute_result"
    }
   ],
   "source": [
    "python.talkListen('get light')"
   ]
  },
  {
   "cell_type": "code",
   "execution_count": 5,
   "id": "f662571d-b7f3-486f-86ae-019eb4e3dba0",
   "metadata": {},
   "outputs": [
    {
     "data": {
      "text/plain": [
       "12"
      ]
     },
     "execution_count": 5,
     "metadata": {},
     "output_type": "execute_result"
    }
   ],
   "source": [
    "python.talk('set led red')"
   ]
  },
  {
   "cell_type": "code",
   "execution_count": 6,
   "id": "7ece2bcb-6f74-46be-b9f3-e5c553f06878",
   "metadata": {},
   "outputs": [
    {
     "data": {
      "text/plain": [
       "12"
      ]
     },
     "execution_count": 6,
     "metadata": {},
     "output_type": "execute_result"
    }
   ],
   "source": [
    "python.talk('set led off')"
   ]
  },
  {
   "cell_type": "code",
   "execution_count": 7,
   "id": "d57b8032-3b11-456a-aff2-e131e110929a",
   "metadata": {},
   "outputs": [
    {
     "data": {
      "text/plain": [
       "13"
      ]
     },
     "execution_count": 7,
     "metadata": {},
     "output_type": "execute_result"
    }
   ],
   "source": [
    "python.talk('play re 1000')"
   ]
  },
  {
   "cell_type": "code",
   "execution_count": 2,
   "id": "adc9786c-87e4-4635-9f13-ca14c3eddabe",
   "metadata": {},
   "outputs": [],
   "source": [
    "python.connectDb()\n",
    "python.writeDb('SELECT COUNT(*) FROM volt_table')\n",
    "python.closeDb()"
   ]
  },
  {
   "cell_type": "code",
   "execution_count": 3,
   "id": "0f4ee91e-47d9-49c0-924c-64441ae44cb5",
   "metadata": {},
   "outputs": [
    {
     "data": {
      "text/plain": [
       "3.304008"
      ]
     },
     "execution_count": 3,
     "metadata": {},
     "output_type": "execute_result"
    }
   ],
   "source": [
    "python.getVolt()"
   ]
  },
  {
   "cell_type": "code",
   "execution_count": 3,
   "id": "54f82803-8ecc-40b1-8b90-1524b7dc3059",
   "metadata": {},
   "outputs": [
    {
     "data": {
      "text/plain": [
       "True"
      ]
     },
     "execution_count": 3,
     "metadata": {},
     "output_type": "execute_result"
    }
   ],
   "source": [
    "python.insertVoltToTable()"
   ]
  },
  {
   "cell_type": "code",
   "execution_count": null,
   "id": "f7ee64bc-a183-4a9b-8bd3-a597e3ce9d86",
   "metadata": {},
   "outputs": [],
   "source": []
  }
 ],
 "metadata": {
  "kernelspec": {
   "display_name": "Python 3 (ipykernel)",
   "language": "python",
   "name": "python3"
  },
  "language_info": {
   "codemirror_mode": {
    "name": "ipython",
    "version": 3
   },
   "file_extension": ".py",
   "mimetype": "text/x-python",
   "name": "python",
   "nbconvert_exporter": "python",
   "pygments_lexer": "ipython3",
   "version": "3.13.0"
  }
 },
 "nbformat": 4,
 "nbformat_minor": 5
}
